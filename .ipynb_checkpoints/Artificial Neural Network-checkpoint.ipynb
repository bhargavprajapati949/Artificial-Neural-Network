{
 "cells": [
  {
   "cell_type": "code",
   "execution_count": 3,
   "metadata": {},
   "outputs": [],
   "source": [
    "import numpy as np\n",
    "from dnn_app_utils_v3 import *\n",
    "# from dnn_utils_v2 import *\n",
    "# from testCases_v4a import *"
   ]
  },
  {
   "cell_type": "code",
   "execution_count": 25,
   "metadata": {},
   "outputs": [],
   "source": [
    "def initialize_parameters(layers_dims):\n",
    "    parameters = {}\n",
    "    \n",
    "    L = len(layers_dims) - 1             # as 0th element is input layer\n",
    "    \n",
    "    np.random.seed(1)\n",
    "    \n",
    "    for l in range(1, L+1):\n",
    "        parameters[\"W\" + str(l)] = np.random.randn(layers_dims[l], layers_dims[l-1]) * 0.01\n",
    "#         / np.sqrt(layers_dims[l-1])\n",
    "        parameters[\"b\" + str(l)] = np.zeros((layers_dims[l], 1))\n",
    "                \n",
    "    return parameters"
   ]
  },
  {
   "cell_type": "code",
   "execution_count": 5,
   "metadata": {},
   "outputs": [],
   "source": [
    "# initialize_parameters([3,2,1])"
   ]
  },
  {
   "cell_type": "code",
   "execution_count": 6,
   "metadata": {},
   "outputs": [],
   "source": [
    "# def initialize_hyperparameter():\n",
    "#     pass"
   ]
  },
  {
   "cell_type": "code",
   "execution_count": 7,
   "metadata": {},
   "outputs": [],
   "source": [
    "def activation(Z, activation_function):\n",
    "    \n",
    "    if activation_function == \"linear\":\n",
    "        return Z\n",
    "    \n",
    "    elif activation_function == \"sigmoid\":\n",
    "        return 1/(1 + np.exp(-Z))\n",
    "    \n",
    "    elif activation_function == \"relu\":\n",
    "        return np.maximum(0, Z)\n",
    "    \n",
    "    elif activation_function == \"tanh\":\n",
    "        return np.tanh(Z)\n",
    "#         z_exp_plus = np.exp(Z)\n",
    "#         z_exp_minus = np.exp(-Z)\n",
    "#         return (z_exp_plus - z_exp_minus)/(z_exp_plus + z_exp_minus)\n",
    "    "
   ]
  },
  {
   "cell_type": "code",
   "execution_count": 8,
   "metadata": {},
   "outputs": [],
   "source": [
    "def forward_prop(X, parameters, layers_act_fun):\n",
    "    \n",
    "    L = len(parameters) // 2\n",
    "    \n",
    "    forward_cache = {}\n",
    "    \n",
    "    forward_cache[\"A\" + str(0) ] = X\n",
    "    \n",
    "    for l in range(1, L+1):\n",
    "        forward_cache[\"Z\" + str(l)] = np.dot(parameters[\"W\" + str(l)], forward_cache[\"A\" + str(l-1)]) + parameters[\"b\" + str(l)]\n",
    "        forward_cache[\"A\" + str(l)] = activation(forward_cache[\"Z\" + str(l)], layers_act_fun[l])\n",
    "        \n",
    "    return forward_cache"
   ]
  },
  {
   "cell_type": "code",
   "execution_count": 9,
   "metadata": {},
   "outputs": [],
   "source": [
    "# X, parameters = L_model_forward_test_case_2hidden()\n",
    "\n",
    "# forward_cache = forward_prop(X, parameters, [\"\",\"relu\", \"relu\", \"sigmoid\"])\n",
    "# print(forward_cache)"
   ]
  },
  {
   "cell_type": "code",
   "execution_count": 10,
   "metadata": {},
   "outputs": [],
   "source": [
    "def compute_cost(Y, A):\n",
    "    \n",
    "    cost = np.sum(np.multiply(Y, np.log(A)) + np.multiply((1-Y), np.log(1-A)))/(-Y.shape[1])\n",
    "\n",
    "    return cost"
   ]
  },
  {
   "cell_type": "code",
   "execution_count": 11,
   "metadata": {},
   "outputs": [],
   "source": [
    "# Y, A = compute_cost_test_case()\n",
    "\n",
    "# cost = compute_cost(Y, A)\n",
    "\n",
    "# print(\"cost = \" + str(cost))"
   ]
  },
  {
   "cell_type": "code",
   "execution_count": 12,
   "metadata": {},
   "outputs": [],
   "source": [
    "def activation_diff(Z, activation_diff_fun):\n",
    "    \n",
    "    if activation_diff_fun == \"linear\":\n",
    "        return 1\n",
    "    \n",
    "    elif activation_diff_fun == \"sigmoid\":\n",
    "        a = 1/(1 + np.exp(-Z))\n",
    "        return a * (1 - a)\n",
    "    \n",
    "    elif activation_diff_fun == \"relu\":\n",
    "        return (Z > 0)*1\n",
    "    \n",
    "    elif activation_diff_fun == \"tanh\":\n",
    "        return 1 - activation(Z, \"tanh\")**2"
   ]
  },
  {
   "cell_type": "code",
   "execution_count": 13,
   "metadata": {},
   "outputs": [],
   "source": [
    "def loss_fun_diff(A, Y):\n",
    "    loss_derivative = - np.divide(Y, A) + np.divide(1-Y, 1-A)\n",
    "    return loss_derivative"
   ]
  },
  {
   "cell_type": "code",
   "execution_count": 14,
   "metadata": {},
   "outputs": [],
   "source": [
    "def backward_prop(forward_cache, Y, parameters, layers_act_fun):\n",
    "    \n",
    "    L = len(parameters) // 2\n",
    "    m = Y.shape[1]\n",
    "    \n",
    "    grads = {}\n",
    "    \n",
    "    \n",
    "#     grads[\"dA\" + str(L)] = - np.divide(Y, forward_cache[\"A\" + str(L)]) + np.divide(1-Y, 1-forward_cache[\"A\" + str(L)])\n",
    "    grads[\"dA\" + str(L)] = loss_fun_diff(forward_cache[\"A\" + str(L)], Y)\n",
    "    \n",
    "    for l in reversed(range(1, L+1)):\n",
    "        dZ = np.multiply(grads[\"dA\" + str(l)], activation_diff(forward_cache[\"Z\" + str(l)], layers_act_fun[l]) )\n",
    "        grads[\"dW\" + str(l)] = np.dot(dZ, forward_cache[\"A\" + str(l-1)].T)/m\n",
    "        grads[\"db\" + str(l)] = dZ.sum(axis = 1, keepdims = True)/m\n",
    "        grads[\"dA\" + str(l-1)] = np.dot(parameters[\"W\" + str(l)].T, dZ)\n",
    "\n",
    "        \n",
    "#     grads[\"dZ\" + str(L)] = np.multiply((- np.divide(Y, forward_cache[\"A\" + str(L)]) + np.divide(1-Y, 1-forward_cache[\"A\" + str(L)])), activation_diff(forward_cache[\"Z\" + str(l)], layers_act_fun[l]) )\n",
    "\n",
    "#     for l in reversed(range(1, L+1)):\n",
    "#         grads[\"dW\" + str(l)] = np.multiply(grads[\"dZ\" + str(l)], forward_cache[\"A\" + str(l-1)])/ m\n",
    "#         grads[\"db\" + str(l)] = grads[\"dZ\" + str(l)].sum(axis = 1, keepdims = True)/m\n",
    "#         grads[\"dZ\" + str(l-1)] = np.multiply(np.dot(parameters[\"W\" + str(l)].T, grads[\"dZ\" + str(l)]), activation_diff(forward_cache[\"Z\" + str(l)], layers_act_fun[l]) )\n",
    "        \n",
    "    \n",
    "    return grads\n",
    "    "
   ]
  },
  {
   "cell_type": "code",
   "execution_count": 15,
   "metadata": {},
   "outputs": [],
   "source": [
    "def update_parameters(parameters, grads, learning_rate):\n",
    "    \n",
    "    L = len(parameters) // 2\n",
    "    \n",
    "    for l in range(1, L+1):\n",
    "        parameters[\"W\" + str(l)] = parameters[\"W\" + str(l)] - learning_rate*grads[\"dW\" + str(l)]\n",
    "        parameters[\"b\" + str(l)] = parameters[\"b\" + str(l)] - learning_rate*grads[\"db\" + str(l)]\n",
    "        \n",
    "    return parameters\n",
    "        "
   ]
  },
  {
   "cell_type": "code",
   "execution_count": 16,
   "metadata": {},
   "outputs": [],
   "source": [
    "def predict(X, y, parameters, layers_act_fun):\n",
    "    forward_cache = forward_prop(X, parameters, layers_act_fun)\n",
    "    \n",
    "    y_hat = forward_cache[\"A\" + str( len(parameters) // 2 )]\n",
    "    \n",
    "    y_hat = (y_hat > 0.5)*1\n",
    "    \n",
    "    print(\"Accuracy: \" + str( np.sum( (y_hat == y) ) / X.shape[1] ) )"
   ]
  },
  {
   "cell_type": "code",
   "execution_count": 17,
   "metadata": {},
   "outputs": [],
   "source": [
    "def ann_model(X, Y, layers_dims, layers_act_fun, iteration = 100, learning_rate = 0.01):\n",
    "    \n",
    "    m = X.shape[1]\n",
    "    L = len(layers_dims)\n",
    "    \n",
    "    layers_dims = [X.shape[0]] +  layers_dims\n",
    "    \n",
    "    if len(layers_act_fun) == 1:\n",
    "        layers_act_fun = layers_act_fun*L\n",
    "    \n",
    "    layers_act_fun = [\"\"] + layers_act_fun\n",
    "    \n",
    "    parameters = initialize_parameters(layers_dims)\n",
    "    costs = []\n",
    "        \n",
    "    for i in range(0, iteration):\n",
    "        \n",
    "        forward_cache = forward_prop(X, parameters, layers_act_fun)\n",
    "        \n",
    "        cost = compute_cost(Y, forward_cache[\"A\" + str(L)])\n",
    "        \n",
    "        grads = backward_prop(forward_cache, Y, parameters, layers_act_fun)\n",
    "        \n",
    "        parameters = update_parameters(parameters, grads, learning_rate)\n",
    "        \n",
    "        \n",
    "        \n",
    "        if i%100 == 0:\n",
    "            print(\"cost at iteration {}: {}\".format(i, cost))\n",
    "            costs = costs + [cost]\n",
    "\n",
    "    plt.plot(costs)\n",
    "    predict(X, Y, parameters, layers_act_fun)\n",
    "    \n",
    "    return parameters"
   ]
  },
  {
   "cell_type": "code",
   "execution_count": 18,
   "metadata": {},
   "outputs": [],
   "source": [
    "import matplotlib.pyplot as plt\n",
    "\n",
    "plt.rcParams['figure.figsize'] = (5.0, 4.0) # set default size of plots\n",
    "plt.rcParams['image.interpolation'] = 'nearest'\n",
    "plt.rcParams['image.cmap'] = 'gray'\n"
   ]
  },
  {
   "cell_type": "code",
   "execution_count": 19,
   "metadata": {},
   "outputs": [],
   "source": [
    "x_train, y_train, x_test, y_test, classes = load_data()"
   ]
  },
  {
   "cell_type": "code",
   "execution_count": 20,
   "metadata": {},
   "outputs": [],
   "source": [
    "x_train = x_train.reshape(x_train.shape[0], -1).T\n",
    "x_test = x_test.reshape(x_test.shape[0], -1).T\n",
    "\n",
    "x_train = x_train/255\n",
    "x_test = x_test/255"
   ]
  },
  {
   "cell_type": "code",
   "execution_count": 26,
   "metadata": {},
   "outputs": [
    {
     "name": "stdout",
     "output_type": "stream",
     "text": [
      "cost at iteration 0: 0.6930497356599891\n",
      "cost at iteration 100: 0.6464320953428849\n",
      "cost at iteration 200: 0.6325140647912677\n",
      "cost at iteration 300: 0.6015024920354665\n",
      "cost at iteration 400: 0.5601966311605748\n",
      "cost at iteration 500: 0.515830477276473\n",
      "cost at iteration 600: 0.4754901313943326\n",
      "cost at iteration 700: 0.4339163151225749\n",
      "cost at iteration 800: 0.4007977536203889\n",
      "cost at iteration 900: 0.3580705011323798\n",
      "cost at iteration 1000: 0.3394281538366411\n",
      "cost at iteration 1100: 0.30527536361962654\n",
      "cost at iteration 1200: 0.27491377282130164\n",
      "cost at iteration 1300: 0.24681768210614854\n",
      "cost at iteration 1400: 0.19850735037466102\n",
      "cost at iteration 1500: 0.17448318112556643\n",
      "cost at iteration 1600: 0.17080762978096212\n",
      "cost at iteration 1700: 0.11306524562164733\n",
      "cost at iteration 1800: 0.09629426845937154\n",
      "cost at iteration 1900: 0.08342617959726863\n",
      "cost at iteration 2000: 0.07439078704319081\n",
      "cost at iteration 2100: 0.06630748132267932\n",
      "cost at iteration 2200: 0.05919329501038171\n",
      "cost at iteration 2300: 0.05336140348560556\n",
      "cost at iteration 2400: 0.04855478562877017\n",
      "Accuracy: 1.0\n"
     ]
    },
    {
     "data": {
      "image/png": "[encoded data removed]",
      "text/plain": [
       "<Figure size 360x288 with 1 Axes>"
      ]
     },
     "metadata": {
      "needs_background": "light"
     },
     "output_type": "display_data"
    }
   ],
   "source": [
    "layers_dims = [7, 1]\n",
    "layers_act_fun = [\"relu\", \"sigmoid\"]\n",
    "parameters = ann_model(x_train, y_train, layers_dims, layers_act_fun, iteration = 2500, learning_rate = 0.0075)"
   ]
  },
  {
   "cell_type": "code",
   "execution_count": 28,
   "metadata": {},
   "outputs": [
    {
     "name": "stdout",
     "output_type": "stream",
     "text": [
      "Accuracy: 0.72\n"
     ]
    }
   ],
   "source": [
    "predict(x_test, y_test, parameters, [\"\"] + layers_act_fun)"
   ]
  },
  {
   "cell_type": "code",
   "execution_count": 22,
   "metadata": {
    "scrolled": true
   },
   "outputs": [
    {
     "name": "stdout",
     "output_type": "stream",
     "text": [
      "cost at iteration 0: 0.7717493284237688\n",
      "cost at iteration 100: 0.6720534400822913\n",
      "cost at iteration 200: 0.6482632048575212\n",
      "cost at iteration 300: 0.6115068816101354\n",
      "cost at iteration 400: 0.5670473268366111\n",
      "cost at iteration 500: 0.54013766345478\n",
      "cost at iteration 600: 0.5279299569455267\n",
      "cost at iteration 700: 0.4654773771766852\n",
      "cost at iteration 800: 0.369125852495928\n",
      "cost at iteration 900: 0.3917469743480535\n",
      "cost at iteration 1000: 0.31518698886006147\n",
      "cost at iteration 1100: 0.2726998441789384\n",
      "cost at iteration 1200: 0.23741853400268131\n",
      "cost at iteration 1300: 0.19960120532208647\n",
      "cost at iteration 1400: 0.18926300388463305\n",
      "cost at iteration 1500: 0.1611885466582775\n",
      "cost at iteration 1600: 0.14821389662363316\n",
      "cost at iteration 1700: 0.1377748781297294\n",
      "cost at iteration 1800: 0.1297401754919012\n",
      "cost at iteration 1900: 0.12122535068005211\n",
      "cost at iteration 2000: 0.11382060668633708\n",
      "cost at iteration 2100: 0.10783928526254133\n",
      "cost at iteration 2200: 0.10285466069352679\n",
      "cost at iteration 2300: 0.10089745445261784\n",
      "cost at iteration 2400: 0.09287821526472395\n",
      "Accuracy: 0.9856459330143541\n"
     ]
    },
    {
     "data": {
      "image/png": "[encoded data removed]",
      "text/plain": [
       "<Figure size 360x288 with 1 Axes>"
      ]
     },
     "metadata": {
      "needs_background": "light"
     },
     "output_type": "display_data"
    }
   ],
   "source": [
    "layers_dims = [20, 7, 5, 1]\n",
    "layers_act_fun = [\"relu\", \"relu\", \"relu\", \"sigmoid\"]\n",
    "parameters = ann_model(x_train, y_train, layers_dims, layers_act_fun, iteration = 2500, learning_rate = 0.0075)"
   ]
  },
  {
   "cell_type": "code",
   "execution_count": 24,
   "metadata": {},
   "outputs": [
    {
     "name": "stdout",
     "output_type": "stream",
     "text": [
      "Accuracy: 0.8\n"
     ]
    }
   ],
   "source": [
    "predict(x_test, y_test, parameters, [\"\"] + layers_act_fun)"
   ]
  },
  {
   "cell_type": "code",
   "execution_count": null,
   "metadata": {},
   "outputs": [],
   "source": []
  }
 ],
 "metadata": {
  "kernelspec": {
   "display_name": "Python 3",
   "language": "python",
   "name": "python3"
  },
  "language_info": {
   "codemirror_mode": {
    "name": "ipython",
    "version": 3
   },
   "file_extension": ".py",
   "mimetype": "text/x-python",
   "name": "python",
   "nbconvert_exporter": "python",
   "pygments_lexer": "ipython3",
   "version": "3.7.4"
  }
 },
 "nbformat": 4,
 "nbformat_minor": 2
}
